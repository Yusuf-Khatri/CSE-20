{
 "cells": [
  {
   "cell_type": "markdown",
   "id": "cfbe5b22",
   "metadata": {},
   "source": [
    "# Revision Session Fall '22\n",
    "\n",
    "Topics to cover:\n",
    "    \n",
    "* Files - reading and writing\n",
    "* Lambda functions\n",
    "* Modules\n",
    "* Big O notation\n",
    "* Recursion\n",
    "* Inheritance\n",
    "* Exceptions\n",
    "* Generator functions and the yield keyword\n",
    "* Different classes of error and debugging"
   ]
  },
  {
   "cell_type": "code",
   "execution_count": 10,
   "id": "f01408db",
   "metadata": {},
   "outputs": [
    {
     "name": "stdout",
     "output_type": "stream",
     "text": [
      "['L03 More Types.ipynb', 'out.txt', 'revision_session.ipynb', 'L11 Files.ipynb', '.DS_Store', 'L18 Data Science .ipynb', 'test2.txt', 'L06 Functions.ipynb', 'L10 Modules.ipynb', 'new_directory', 'L08 Strings.ipynb', 'L05 Loops.ipynb', 'L04 Conditionals and Branching.ipynb', 'alice_in_wonderland.txt', 'L13 Classes and Polymorphism.ipynb', 'L02 Variables and Expressions.ipynb', 'L07 Functions Continued.ipynb', 'L16 Exceptions and Unit Testing.ipynb', 'out.csv', 'temp.txt', 'revision session fall 22.ipynb', 'L-- Syllabus.ipynb', 'figures', 'L15 More Functions and Recursion.ipynb', 'L14 Inheritance.ipynb', 'test.txt', '.ipynb_checkpoints', 'zhivago.txt', 'L17 Search Algorithms.ipynb', 'data', 'L12 Classes and Objects.ipynb', 'cancer_data.csv', 'L09 Tuples, Lists and Dictionaries.ipynb', 'L01 Intro.ipynb', 'local.txt']\n",
      "[3, 8, 7, 10, 6, 10, 7, 1, 4, 1] [3, 8, 7, 10, 6, 10, 7, 1, 4, 1]\n"
     ]
    }
   ],
   "source": [
    "## Files\n",
    "\n",
    "## Write 10 random integers into a file and then read those numbers back\n",
    "\n",
    "import random\n",
    "\n",
    "# Make the 10 random numbers\n",
    "rand_nums = [ random.randint(1, 10) for i in range(10)]\n",
    "\n",
    "# Write the numbers in a file\n",
    "file_name = \"temp.txt\"\n",
    "with open(file_name, \"w\") as file_handle:\n",
    "    for i in rand_nums: # Write each number of a new line\n",
    "        file_handle.write(f\"{i}\\n\")\n",
    "        \n",
    "import os\n",
    "\n",
    "print(os.listdir(os.getcwd())) # This line will print \n",
    "# all files in the current working directory\n",
    "        \n",
    "# Read the numbers from the file\n",
    "rand_nums_2 = [] # Intitially an empty list that we'll put the numbers in\n",
    "with open(file_name, \"r\") as file_handle:\n",
    "    for line in file_handle: # This for loop will return successive lines of the file\n",
    "        rand_nums_2.append(int(line))\n",
    "\n",
    "print(rand_nums, rand_nums_2)\n",
    "assert rand_nums == rand_nums_2"
   ]
  },
  {
   "cell_type": "code",
   "execution_count": 13,
   "id": "d046af3f",
   "metadata": {},
   "outputs": [
    {
     "name": "stdout",
     "output_type": "stream",
     "text": [
      "[-7, -3, 2, 4, 5, 7, 10]\n",
      "[10, 7, 5, 4, 2, -3, -7]\n"
     ]
    }
   ],
   "source": [
    "# Lambda functions\n",
    "\n",
    "## Write a lambda function that takes two numbers x, y and returns (x + y) / x\n",
    "\n",
    "# Written as a function\n",
    "def fn(x, y):\n",
    "    \"\"\" Returns (x + y) / x \"\"\"\n",
    "    return (x + y) / x\n",
    "\n",
    "## Written as a lambda function\n",
    "fn = lambda x, y : (x + y) / x  # This is the same as the above (minus the dockstring)\n",
    "\n",
    "## Using lambdas to change the behaviour of a function (passing lambdas as inline function arguments)\n",
    "\n",
    "z = [ 4, 5, 7, -3, -7, 2, 10] # List of unsorted numbers\n",
    "\n",
    "print(sorted(z)) # Sort the numbers in ascending order\n",
    "\n",
    "print(sorted(z, key=lambda x : -x)) # Sort the numbers in descending order, using a lambda \n",
    "# function to change the \"key\" upon which the elements are sorted"
   ]
  },
  {
   "cell_type": "code",
   "execution_count": 21,
   "id": "2d892410",
   "metadata": {},
   "outputs": [
    {
     "name": "stdout",
     "output_type": "stream",
     "text": [
      "0.2870958419854919\n",
      "3\n",
      "2\n"
     ]
    }
   ],
   "source": [
    "## Modules\n",
    "\n",
    "import random # This imports the random module into the namespace\n",
    "\n",
    "print(random.random()) # Print a random number between 0 and 1, I need to import the module\n",
    "# name to be able to refer to it\n",
    "\n",
    "from random import randint  # Brings randint into the namespace from the random module\n",
    "\n",
    "print(randint(0, 10)) # Use randint to get a randome number between 0 and 10\n",
    "\n",
    "from random import randint as random_integer\n",
    "\n",
    "print(random_integer(0, 10)) # Same as before, but now I'm calling the function random_integer"
   ]
  },
  {
   "cell_type": "code",
   "execution_count": 24,
   "id": "b6ade440",
   "metadata": {},
   "outputs": [
    {
     "data": {
      "text/plain": [
       "False"
      ]
     },
     "execution_count": 24,
     "metadata": {},
     "output_type": "execute_result"
    }
   ],
   "source": [
    "# Big O notation\n",
    "\n",
    "# Write an expression for the worst case runtime of the \n",
    "# following function in terms of N using Big O notation, where\n",
    "# N is the length of the string:\n",
    "\n",
    "def character_in_the_string(string, c):\n",
    "    \"\"\" Returns true if c is in the string \"string\" \"\"\"\n",
    "    for b in string:\n",
    "        if b == c:\n",
    "            return True\n",
    "    return False\n",
    "\n",
    "character_in_the_string(\"hello and welcome to the exam\", \"z\")\n",
    "\n",
    "## Answer is O(N)"
   ]
  },
  {
   "cell_type": "code",
   "execution_count": 28,
   "id": "0fb38c22",
   "metadata": {},
   "outputs": [
    {
     "name": "stdout",
     "output_type": "stream",
     "text": [
      " The string is now: hello and welcome to the exam and c is: w\n",
      " The string is now: ello and welcome to the exam and c is: w\n",
      " The string is now: llo and welcome to the exam and c is: w\n",
      " The string is now: lo and welcome to the exam and c is: w\n",
      " The string is now: o and welcome to the exam and c is: w\n",
      " The string is now:  and welcome to the exam and c is: w\n",
      " The string is now: and welcome to the exam and c is: w\n",
      " The string is now: nd welcome to the exam and c is: w\n",
      " The string is now: d welcome to the exam and c is: w\n",
      " The string is now:  welcome to the exam and c is: w\n",
      " The string is now: welcome to the exam and c is: w\n",
      "True\n"
     ]
    }
   ],
   "source": [
    "# Recursion\n",
    "\n",
    "# Write a recursive version of character_in_the_string from the last code block:\n",
    "\n",
    "def character_in_the_string_recursive(string, c):\n",
    "    print(f\" The string is now: {string} and c is: {c}\")\n",
    "    if len(string) == 0:  # Always think about the base/null case first\n",
    "        return False\n",
    "    ## Read the following as first character is c OR c is in the rest of the string (recursive)\n",
    "    return string[0] == c or character_in_the_string_recursive(string[1:], c)\n",
    "\n",
    "print(character_in_the_string_recursive(\"hello and welcome to the exam\", \"w\"))\n",
    "\n"
   ]
  },
  {
   "cell_type": "code",
   "execution_count": 30,
   "id": "cce50c96",
   "metadata": {},
   "outputs": [
    {
     "name": "stdout",
     "output_type": "stream",
     "text": [
      "Rock Rose Prickly Pear\n"
     ]
    }
   ],
   "source": [
    "# Inheritance (and objects)\n",
    "\n",
    "## Create a Plant class that takes an name argument and a sun_not_shade boolean variable\"\n",
    "class Plant:\n",
    "    def __init__(self, plant_name, sun_not_shade=True):\n",
    "        self.plant_name = plant_name # Create object (aka instance) variables \n",
    "        self.sun_not_shade = sun_not_shade\n",
    "     \n",
    "## Use inheritence at this point\n",
    "class Cactus(Plant):  # Class Cactus is child of parent Plant\n",
    "    def __init__(self, plant_name, how_often_do_you_water_per_week=1):\n",
    "        super().__init__(plant_name, sun_not_shade=True)  # Call Plant's init method\n",
    "        # Plant.__init__(self, plant_name, sun_not_shade=True) ## Equivalent to above\n",
    "        self.how_often_do_you_water_per_week = how_often_do_you_water_per_week\n",
    "\n",
    "# Make objects (instances) of the classes\n",
    "rose = Plant(\"Rock Rose\")\n",
    "prickly_pear = Cactus(\"Prickly Pear\", 1)\n",
    "\n",
    "print(rose.plant_name, prickly_pear.plant_name)\n"
   ]
  },
  {
   "cell_type": "code",
   "execution_count": 38,
   "id": "48dfc274",
   "metadata": {},
   "outputs": [
    {
     "name": "stdout",
     "output_type": "stream",
     "text": [
      "Please input a make of car from the following options: Toyota VW BMWTesla\n",
      "Not a recognized car make, try again\n",
      "Please input a make of car from the following options: Toyota VW BMWVW\n",
      "The cost of a VW is 34000\n"
     ]
    }
   ],
   "source": [
    "# Exceptions\n",
    "\n",
    "## Ask the user to input a name from a list of options, repeating the request until a valid \n",
    "## option is input\n",
    "\n",
    "car_costs = { \"Toyota\":10900, \"VW\": 34000, \"BMW\":20303045}  # Using a dictionary to remind you\n",
    "\n",
    "while True:\n",
    "    try:\n",
    "        car_name = input(f\"\"\"Please input a make of car from the following options: {\" \".join(car_costs.keys())}\"\"\")\n",
    "        if car_name not in car_costs:\n",
    "            raise ValueError()  # I can create custom errors by \"raising\" exceptions\n",
    "        break # Stop looping\n",
    "    except ValueError: # Catch a ValueError\n",
    "        print(\"Not a recognized car make, try again\")\n",
    "        \n",
    "print(f\"The cost of a {car_name} is {car_costs[car_name]}\")"
   ]
  },
  {
   "cell_type": "code",
   "execution_count": 39,
   "id": "4b2d47bd",
   "metadata": {},
   "outputs": [
    {
     "name": "stdout",
     "output_type": "stream",
     "text": [
      "The next square number is 0\n",
      "The next square number is 1\n",
      "The next square number is 4\n",
      "The next square number is 9\n",
      "The next square number is 16\n",
      "The next square number is 25\n",
      "The next square number is 36\n",
      "The next square number is 49\n",
      "The next square number is 64\n",
      "The next square number is 81\n"
     ]
    }
   ],
   "source": [
    "# Generator functions and the yield keyword\n",
    "\n",
    "# Write a generator function to return the first 10 square numbers, calling it squares\n",
    "\n",
    "def squares():\n",
    "    for i in range(10):\n",
    "        yield i*i  # Yield is like return in that it returns a value\n",
    "\n",
    "for j in squares(): # This iterates over the generator\n",
    "    print(\"The next square number is\", j)\n"
   ]
  },
  {
   "cell_type": "code",
   "execution_count": 47,
   "id": "8c12590b",
   "metadata": {},
   "outputs": [
    {
     "name": "stdout",
     "output_type": "stream",
     "text": [
      "the key is a key the value is a value\n",
      "the key is 1 the value is 27\n",
      "the key is one more the value is oops\n"
     ]
    }
   ],
   "source": [
    "# Different classes of error and debugging\n",
    "\n",
    "## Try asking a friend to write some slightly broken code and then debug it and fix it\n",
    "\n",
    "## For example\n",
    "\n",
    "# This code will try to print out a list of keys and values\n",
    "#d = { \"a key\":\"a value\", 1:27, \"one more\"}\n",
    "\n",
    "#for i in d   \n",
    "#    print \"the key is\" i, \"the value is\", d{i}, \"Adding to my key\", i + 12\n",
    "\n",
    "## When we debug, we general fix errors of the following types:\n",
    "\n",
    "## Syntax errors\n",
    "## Runtime errors\n",
    "## Logical (aka semantic) errors\n",
    "\n",
    "# The fixed version\n",
    "d = { \"a key\":\"a value\", 1:27, \"one more\":\"oops\"}\n",
    "\n",
    "for i in d:\n",
    "    print(\"the key is\", i, \"the value is\", d[i])"
   ]
  },
  {
   "cell_type": "code",
   "execution_count": null,
   "id": "7bf614e8",
   "metadata": {},
   "outputs": [],
   "source": []
  }
 ],
 "metadata": {
  "kernelspec": {
   "display_name": "intro_python_env",
   "language": "python",
   "name": "intro_python_env"
  },
  "language_info": {
   "codemirror_mode": {
    "name": "ipython",
    "version": 3
   },
   "file_extension": ".py",
   "mimetype": "text/x-python",
   "name": "python",
   "nbconvert_exporter": "python",
   "pygments_lexer": "ipython3",
   "version": "3.11.2"
  }
 },
 "nbformat": 4,
 "nbformat_minor": 5
}
