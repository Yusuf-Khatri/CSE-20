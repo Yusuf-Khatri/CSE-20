{
 "cells": [
  {
   "cell_type": "markdown",
   "id": "12dbef19",
   "metadata": {},
   "source": [
    "# Revision Session - Winter 2024\n",
    "\n",
    "Topics to cover:\n",
    "\n",
    "* Loops and nested loops\n",
    "* Lists, tuples, sequences in general and slicing\n",
    "* List comprehensions\n",
    "* Dictionaries\n",
    "* Lambda functions\n",
    "* Recursion\n",
    "* Classes, inheritance\n",
    "* Exceptions"
   ]
  },
  {
   "cell_type": "code",
   "execution_count": 5,
   "id": "afef2614",
   "metadata": {},
   "outputs": [
    {
     "name": "stdout",
     "output_type": "stream",
     "text": [
      "Sum of values is 495\n"
     ]
    }
   ],
   "source": [
    "# Loops and nested loops\n",
    "\n",
    "# Give a list of integer tuple pairs (x, y) for all combinations of x and y\n",
    "# where x is 5, 6, ..., 10, and y is 7, 8, ... 11, sum up all the xs and ys\n",
    "# to produce the total sum. \n",
    "\n",
    "z = 0  # We'll use this to store the sum of the integers\n",
    "for x in range(5, 11): # Loop through all possible values of x, note the 11 because range\n",
    "    # is exclusive\n",
    "    for y in range(7, 12): # Now nest the sum over the ys\n",
    "        #print(f\"x:{x}, y:{y}, z:{z}\")\n",
    "        z += x + y\n",
    "        \n",
    "print(f\"Sum of values is {z}\")"
   ]
  },
  {
   "cell_type": "code",
   "execution_count": 12,
   "id": "91747928",
   "metadata": {},
   "outputs": [
    {
     "name": "stdout",
     "output_type": "stream",
     "text": [
      "[\"let's\", 'make', 'a', 'list', 'of', 'words']\n",
      "(\"let's\", 'make', 'a', 'list', 'of', 'words')\n",
      "[\"let's\", 'a', 'of']\n"
     ]
    },
    {
     "data": {
      "text/plain": [
       "'of'"
      ]
     },
     "execution_count": 12,
     "metadata": {},
     "output_type": "execute_result"
    }
   ],
   "source": [
    "# Lists, tuples, sequences in general and slicing\n",
    "\n",
    "l = \"let's make a list of words\".split() # Split converts a string into a list\n",
    "# of 'words', each delimited by whitespace\n",
    "\n",
    "print(l)  # l is a list\n",
    "\n",
    "print(tuple(l)) # now converting it to a tuple - remember that tuples are immutable \n",
    "# (can't be edited)\n",
    "\n",
    "# Make a slice of odd numbered elements of l and print it\n",
    "# Here assume that l[0] is the first element and l[1] is the second, etc.\n",
    "\n",
    "print(l[::2])  # Starting from first element (which is odd), use a step of 2, so skipping\n",
    "# the even numbered elements\n",
    "\n",
    "# Negative slices / coordinates\n",
    "l[-1]  # The last element of a list/tuple/string (any python sequence)\n",
    "l[-2]  # The second to last element, etc.\n",
    "\n",
    "\n",
    "# In general for slices:\n",
    "# l[x:y:z] where\n",
    "# x is the start coordinate, inclusive, by default it is 0\n",
    "# y is the end coordinate, exclusive, by default it is the end of the sequence\n",
    "# z is the step, by default it is 1\n",
    "\n",
    "# Useful builtin functions to remember: min, max, join, split, reverse and sorted\n"
   ]
  },
  {
   "cell_type": "code",
   "execution_count": 16,
   "id": "cd8a19a8",
   "metadata": {},
   "outputs": [
    {
     "name": "stdout",
     "output_type": "stream",
     "text": [
      "[0, 1, 2, 3, 4, 5, 6, 7, 8, 9]\n",
      "[2, 3, 4, 5, 6, 7, 8, 9, 10, 11]\n",
      "[2, 3, 4, 5, 6, 7, 8, 9, 10, 11]\n",
      "[0, 3, 6, 9]\n",
      "[0, 3, 6, 9]\n"
     ]
    }
   ],
   "source": [
    "# List comprehensions \n",
    "\n",
    "l = list(range(10)) # [ 0, 1, 2, .... 9]\n",
    "print(l) \n",
    "\n",
    "# In one line, create a new list, l2, which is a copy of l, adding 2 to each element in l\n",
    "\n",
    "l2 = [i+2 for i in l]  # Rememeber, a list comprehension is a mashup of a list \n",
    "#and a for loop - see the lecture notes for details\n",
    "print(l2)\n",
    "\n",
    "# This is equivalent to writing:\n",
    "l2 = []\n",
    "for i in l:\n",
    "    l2.append(i + 2)\n",
    "print(l2)\n",
    "\n",
    "\n",
    "# Now create another list, l3, filtering l to only include values divisible by 3\n",
    "l3 = [i for i in l if i % 3 == 0]  # Note the addition of the if clause after the for\n",
    "print(l3)\n",
    "\n",
    "# This is equivalent to writing:\n",
    "l3 = []\n",
    "for i in l:\n",
    "    if i % 3 == 0: # Is divisible by three, remember how to use mods!\n",
    "        l3.append(i)\n",
    "print(l3)"
   ]
  },
  {
   "cell_type": "code",
   "execution_count": 20,
   "id": "4347cc8c",
   "metadata": {},
   "outputs": [
    {
     "name": "stdout",
     "output_type": "stream",
     "text": [
      "{0: 0, 1: 1, 2: 4, 3: 9, 4: 16, 5: 25, 6: 36, 7: 49, 8: 64, 9: 81}\n",
      "{0: 0, 1: 1, 2: 4, 3: 9, 4: 16, 5: 25, 6: 36, 7: 49, 8: 64, 9: 81}\n",
      "{'t': [0, 25], 'h': [1, 26], 'e': [2, 17, 22, 27], ' ': [3, 8, 12, 19, 24, 28], 'l': [4], 'a': [5], 'z': [6], 'y': [7], 'f': [9], 'o': [10, 20, 30], 'x': [11], 'j': [13], 'u': [14], 'm': [15], 'p': [16], 'd': [18, 29], 'v': [21], 'r': [23], 'g': [31]}\n"
     ]
    }
   ],
   "source": [
    "# Dictionaries\n",
    "\n",
    "# Make a dictionary mapping integers to their squares\n",
    "d = {} # Remember the curly brackets\n",
    "for i in range(10):\n",
    "    d[i] = i**2 # Note the use of the power operator, is the same as i * i in this case\n",
    "\n",
    "print(d)\n",
    "\n",
    "# Do the same as the above, but as a dictionary comprehension\n",
    "d = { i:i**2 for i in range(10) }  # These are like list comprehensions, except you\n",
    "# replace the square brackets with the curly brackets and the expression gets replaced with a\n",
    "# pair, e.g. i:i**2\n",
    "print(d)\n",
    "\n",
    "s = \"the lazy fox jumped over the dog\" # String\n",
    "# Make a dictionary, d2, whose keys are the letters in the string and \n",
    "# whose values are their indices in the string (starting from 0), storing the values as\n",
    "# a list\n",
    "# For example the letter h occurs at the second position (only) so in the dictionary\n",
    "# it will be d['h'] = [1]\n",
    "\n",
    "d2 = {} # The empty dictionary\n",
    "i = 0\n",
    "for char in s: # For each character in s, note this will include the space character\n",
    "    # if we want to exclude it we could include an if statement\n",
    "    if char not in d2: # If the character is not already in d2 then add it and its\n",
    "        # first occurrence\n",
    "        d2[char] = [i]\n",
    "    else: # Otherwise it is already in d2, so just append the new occurrence to the existing\n",
    "        # list\n",
    "        d2[char].append(i)\n",
    "    i += 1 # Increment our index (not I could have alternatively used enumerate)\n",
    "\n",
    "print(d2)"
   ]
  },
  {
   "cell_type": "code",
   "execution_count": 28,
   "id": "bb04c45c",
   "metadata": {},
   "outputs": [
    {
     "name": "stdout",
     "output_type": "stream",
     "text": [
      "['a', 'and', 'stuff', 'of', 'strings', 'list']\n",
      "ABBA is palindrome: True\n",
      "ABCBA is palindrome: True\n",
      "ABCDBA is palindrome: False\n",
      "ABBA is palindrome: True\n",
      "ABCBA is palindrome: True\n",
      "ABCDBA is palindrome: False\n"
     ]
    }
   ],
   "source": [
    "# Lambda functions and recursion\n",
    "\n",
    "# Lambda functions are one line functions, they are generally used to \n",
    "# parameterize other functions, e.g.:\n",
    "\n",
    "l = \"a list of strings and stuff\".split() # List of words\n",
    "\n",
    "l = sorted(l, key=lambda x : x[::-1]) # sort strings by their reversals, in this case\n",
    "# Note, This is not the same as using the reverse=True flag, which rather sorts the strings in descending\n",
    "# rather than ascending order\n",
    "\n",
    "# This: lambda x : x[::-1]\n",
    "# is equivalent to:\n",
    "def f(x):\n",
    "    return x[::-1]\n",
    "l = sorted(l, key=f)\n",
    "\n",
    "print(l)\n",
    "\n",
    "## Recursion\n",
    "\n",
    "# Write both non-recursive and recursive functions to determine if a string is a palindrome\n",
    "\n",
    "# Non-recursive version\n",
    "\n",
    "def is_palindrome(x):\n",
    "    for i in range(len(x)//2): # For each character up to the middle characters:\n",
    "        # Note, if the string x is of odd length this will skip the actual middle\n",
    "        # character, but we consider 0 or 1 length strings to be palindromes, so \n",
    "        # that is okay\n",
    "        if x[i] != x[len(x)-1-i]: # Check if the corresponding position at the other \n",
    "            # end of the string is equal, if it isn't then it can't be a palindrome\n",
    "            return False\n",
    "    return True # If we get to this point, it must be a palindrome\n",
    "\n",
    "print(f\"ABBA is palindrome: {is_palindrome('ABBA')}\")\n",
    "print(f\"ABCBA is palindrome: {is_palindrome('ABCBA')}\")\n",
    "print(f\"ABCDBA is palindrome: {is_palindrome('ABCDBA')}\")\n",
    "\n",
    "# Recursive version\n",
    "\n",
    "def is_palindrome_recursive(x):\n",
    "    if len(x) <= 1: # A zero or one length string is considered a palindrome\n",
    "        return True\n",
    "    first_char = x[0]\n",
    "    last_char = x[-1]\n",
    "    # If the first char and last char are not equal the not a palindrome, if they \n",
    "    # are equal then check the remainder of the characters by slicing a smaller\n",
    "    # string chopping off the first and last characters\n",
    "    return first_char == last_char and is_palindrome_recursive(x[1:-1])\n",
    "\n",
    "print(f\"ABBA is palindrome: {is_palindrome_recursive('ABBA')}\")\n",
    "print(f\"ABCBA is palindrome: {is_palindrome_recursive('ABCBA')}\")\n",
    "print(f\"ABCDBA is palindrome: {is_palindrome_recursive('ABCDBA')}\")\n",
    "\n"
   ]
  },
  {
   "cell_type": "code",
   "execution_count": 30,
   "id": "e11e36ba",
   "metadata": {},
   "outputs": [
    {
     "name": "stdout",
     "output_type": "stream",
     "text": [
      "<__main__.Beverage object at 0x105c05190>\n",
      "False\n"
     ]
    }
   ],
   "source": [
    "# Classes, inheritance\n",
    "\n",
    "# Create a class called \"Beverage\" which has name, cost and temperature (hot or cold) variables\n",
    "# include a class variable size set to large (as a string)\n",
    "\n",
    "class Beverage:\n",
    "    \"\"\" Class to represent a drink \"\"\"  # This must occur first to be a docstring\n",
    "    \n",
    "    size = \"large\" # Making the class variable - it exists once for all instances (objects)\n",
    "    # of the class\n",
    "    \n",
    "    def __init__(self, name, cost, temperature): # The constructor\n",
    "        self.name = name\n",
    "        self.cost = cost\n",
    "        self.temperature = temperature\n",
    "    \n",
    "    def __str__(self): # The method for creating a string representation \n",
    "        return f\"Drink: {self.name}, cost: {self.cost}, temperature: {self.temperature}\"\n",
    "    \n",
    "    def __lt__(self, other_drink): # Allows comparison using the < operator, to make other operators\n",
    "        # work I'd need to implement them\n",
    "        return self.cost < other_drink.cost\n",
    "\n",
    "# Add a method so that the following code works:\n",
    "c = Beverage(name=\"coffee\", cost=3, temperature=\"hot\")\n",
    "print(c) # Should print \"Drink: coffee, cost: 3, temperature: hot\"\n",
    "\n",
    "# Finally add a comparison function which allows comparison using the < operator by the cost, so\n",
    "# that the following usage works\n",
    "c = Beverage(name=\"coffee\", cost=3, temperature=\"hot\")\n",
    "d = Beverage(name=\"tea\", cost=2, temperature=\"hot\")\n",
    "print(c < d) # Should print False, because 3 is > 2\n"
   ]
  },
  {
   "cell_type": "code",
   "execution_count": 33,
   "id": "557e9f07",
   "metadata": {},
   "outputs": [
    {
     "name": "stdout",
     "output_type": "stream",
     "text": [
      "Enter a positive number: foo\n",
      "Invalid input, please try again\n",
      "Enter a positive number: -10\n",
      "Number must be positive, please try again\n",
      "Enter a positive number: 10\n",
      "You entered 10.0\n"
     ]
    }
   ],
   "source": [
    "# Exceptions\n",
    "\n",
    "# Ask the user for a positive number, if the user doesn't enter a \n",
    "# valid number repeat the prompt until they do. \n",
    "# Hint, you may want to consider a ValueError \n",
    "\n",
    "while True:  # We need the loop to repeatedly prompt the user\n",
    "    try: # Everything in the try block will be considered by the except clause(s)\n",
    "        i = float(input(\"Enter a positive number: \"))\n",
    "        assert i > 0\n",
    "        break\n",
    "    except ValueError: # The value error catches the conversion of the string to float error\n",
    "        print(\"Invalid input, please try again\")\n",
    "    except AssertionError: # This catches the assert error - I could have alternatively\n",
    "        # (and simpler) just checked if the integer was greater than 0 to break\n",
    "        print(\"Number must be positive, please try again\")\n",
    "        \n",
    "print(f\"You entered {i}\")"
   ]
  },
  {
   "cell_type": "markdown",
   "id": "d3d174a9",
   "metadata": {},
   "source": [
    "# Some answers to practice exam questions"
   ]
  },
  {
   "cell_type": "code",
   "execution_count": 5,
   "id": "1cb1a219",
   "metadata": {},
   "outputs": [
    {
     "data": {
      "text/plain": [
       "25"
      ]
     },
     "execution_count": 5,
     "metadata": {},
     "output_type": "execute_result"
    }
   ],
   "source": [
    "def sum_odd_integers(l):\n",
    "    if len(l) == 0: # Base case, where there is nothing left to sum\n",
    "        return 0\n",
    "    if l[0] % 2 != 0: # Figure out if we need to sum the first value\n",
    "        i = l[0]\n",
    "    else:\n",
    "        i = 0\n",
    "    return i + sum_odd_integers(l[1:]) # Return i plus the remaining sum, using a recursive call\n",
    "    #return (l[0] if l[0] % 2 != 0 else 0) + sum_odd_integers(l[1:])\n",
    "    \n",
    "    \n",
    "sum_odd_integers(list(range(10)))"
   ]
  },
  {
   "cell_type": "code",
   "execution_count": 4,
   "id": "49be7377",
   "metadata": {},
   "outputs": [
    {
     "name": "stdout",
     "output_type": "stream",
     "text": [
      "0\n",
      "1\n",
      "1\n",
      "2\n",
      "3\n",
      "5\n",
      "8\n",
      "13\n",
      "21\n",
      "34\n"
     ]
    }
   ],
   "source": [
    "def fibonacci(i):\n",
    "    x = 0 # First f number\n",
    "    y = 1 # Second f number\n",
    "    for j in range(i): # Generate i f numbers\n",
    "        yield x # Yield the current f number\n",
    "        z = x + y\n",
    "        x = y\n",
    "        y = z\n",
    "        # or\n",
    "        #x, y = y, x+y # Now update x and y so that they shift along\n",
    "        \n",
    "        \n",
    "for i in fibonacci(10):\n",
    "    print(i)\n",
    "    "
   ]
  },
  {
   "cell_type": "code",
   "execution_count": null,
   "id": "06c33af7",
   "metadata": {},
   "outputs": [],
   "source": [
    "def is_anagram(x, y):\n",
    "    return sorted(list(x)) == sorted(list(y)) "
   ]
  },
  {
   "cell_type": "code",
   "execution_count": null,
   "id": "0b3c6792",
   "metadata": {},
   "outputs": [],
   "source": [
    "def get_full_name():\n",
    "    while True:  # Loop while prompting the user\n",
    "        try:\n",
    "            name = input(\"Enter your full name: \")\n",
    "            l = name.split()  # Tokenize the name string\n",
    "            assert len(l) == 2  # Only accept a name if it has two substrings/words\n",
    "            assert l[0].isalpha()  # Check first name is alphanumeric\n",
    "            assert l[1].isalpha()  # Ditto for second name\n",
    "            return name\n",
    "        except:\n",
    "            print(\"Invalid name, please try again\")\n",
    "\n",
    "        "
   ]
  },
  {
   "cell_type": "code",
   "execution_count": null,
   "id": "6751fb5f",
   "metadata": {},
   "outputs": [],
   "source": [
    "def read_fasta(file_name):\n",
    "    with open(file_name, \"r\") as f:\n",
    "        header = file_name.readline()[1:-1] # Read the header line chopping '>header\\n'\n",
    "        seqs = [ seq_line[:-1] for seq_line in f.readlines() ] # Read the sequence lines\n",
    "        seq = \"\".join(seqs) # The concatenated sequence\n",
    "        return header, seq"
   ]
  }
 ],
 "metadata": {
  "kernelspec": {
   "display_name": "intro_python_env",
   "language": "python",
   "name": "intro_python_env"
  },
  "language_info": {
   "codemirror_mode": {
    "name": "ipython",
    "version": 3
   },
   "file_extension": ".py",
   "mimetype": "text/x-python",
   "name": "python",
   "nbconvert_exporter": "python",
   "pygments_lexer": "ipython3",
   "version": "3.11.6"
  }
 },
 "nbformat": 4,
 "nbformat_minor": 5
}
